{
 "cells": [
  {
   "cell_type": "markdown",
   "metadata": {},
   "source": [
    "I used the simplest possible Neural Network Architecture as an Experiment to model the classification of the given dataset. This approach doesn't have hidden layers, just input layers that is directly connected to the output layer. For the activation and loss function, I used Sigmoid an Mean Squared Error (MSE) respectively."
   ]
  },
  {
   "cell_type": "code",
   "execution_count": 247,
   "metadata": {},
   "outputs": [],
   "source": [
    "# Importing the libraries\n",
    "import numpy as np\n",
    "import matplotlib.pyplot as plt\n",
    "import pandas as pd"
   ]
  },
  {
   "cell_type": "code",
   "execution_count": 248,
   "metadata": {},
   "outputs": [],
   "source": [
    "# Sigmoid Activation Function\n",
    "def sigmoid(x):\n",
    "    return 1 / (1 + np.exp(-x))\n",
    "\n",
    "# Derivative of the sigmoid function\n",
    "def sigmoid_derivative(x):\n",
    "    return x * (1 - x)"
   ]
  },
  {
   "cell_type": "code",
   "execution_count": 249,
   "metadata": {},
   "outputs": [
    {
     "name": "stdout",
     "output_type": "stream",
     "text": [
      "   Area  Bathrooms  Classification\n",
      "0  2104          3               1\n",
      "1  1600          3               1\n",
      "2  2400          3               1\n",
      "3  1416          2               0\n",
      "4  3000          4               0\n",
      "5  1985          4               1\n",
      "6  1534          3               0\n",
      "7  1427          3               1\n",
      "8  1380          3               1\n",
      "9  1494          3               1\n",
      "\n",
      "Good = 1, Bad = 0\n"
     ]
    }
   ],
   "source": [
    "# Input dataset (Area, Bathrooms) and Output (Classification)\n",
    "x = np.array([[2104, 3], [1600, 3], [2400, 3], [1416, 2], [3000, 4], [1985, 4], \n",
    "              [1534, 3], [1427, 3], [1380, 3], [1494, 3]])\n",
    "y = np.array([[1], [1], [1], [0], [0], [1], [0], [1], [1], [1]])\n",
    "\n",
    "# Create and show the dataset\n",
    "df = pd.DataFrame(x, columns=['Area', 'Bathrooms'])\n",
    "df['Classification'] = y\n",
    "print(df)\n",
    "print(\"\\nGood = 1, Bad = 0\")"
   ]
  },
  {
   "cell_type": "code",
   "execution_count": 250,
   "metadata": {},
   "outputs": [],
   "source": [
    "# Normalize the input data\n",
    "x_min = np.min(x, axis=0)\n",
    "x_max = np.max(x, axis=0)\n",
    "x_normalized = (x - x_min) / (x_max - x_min)\n",
    "\n",
    "# Initialize weights and biases\n",
    "input_neurons = 2  # 2 features (Area and Bathrooms)\n",
    "output_neurons = 1  # 1 output (Good/Bad)\n",
    "\n",
    "# Random weights and setting biases to zero\n",
    "w = np.random.randn(input_neurons, output_neurons)\n",
    "b = np.zeros((1, output_neurons))   \n",
    "\n",
    "# Hyperparameters\n",
    "learning_rate = 0.1\n",
    "epochs = 2000"
   ]
  },
  {
   "cell_type": "code",
   "execution_count": 251,
   "metadata": {},
   "outputs": [
    {
     "name": "stdout",
     "output_type": "stream",
     "text": [
      "Epoch 0, Loss: 0.32249106611461514\n",
      "Epoch 100, Loss: 0.2189548664769147\n",
      "Epoch 200, Loss: 0.20951869148894536\n",
      "Epoch 300, Loss: 0.2029080645742351\n",
      "Epoch 400, Loss: 0.19820514263268413\n",
      "Epoch 500, Loss: 0.19477395355469443\n",
      "Epoch 600, Loss: 0.19221600749321058\n",
      "Epoch 700, Loss: 0.1902808842130062\n",
      "Epoch 800, Loss: 0.1888042870182147\n",
      "Epoch 900, Loss: 0.18767282462050655\n",
      "Epoch 1000, Loss: 0.18680481450355554\n",
      "Epoch 1100, Loss: 0.18613958912533415\n",
      "Epoch 1200, Loss: 0.1856311909053313\n",
      "Epoch 1300, Loss: 0.18524438223227674\n",
      "Epoch 1400, Loss: 0.18495194725727548\n",
      "Epoch 1500, Loss: 0.18473277130103455\n",
      "Epoch 1600, Loss: 0.18457042575769517\n",
      "Epoch 1700, Loss: 0.18445210298932\n",
      "Epoch 1800, Loss: 0.18436780445556822\n",
      "Epoch 1900, Loss: 0.18430971718386885\n"
     ]
    }
   ],
   "source": [
    "# Training the model\n",
    "losses = []\n",
    "for epoch in range(epochs):\n",
    "     # Forward pass (compute the sum and pass it to the activation function)\n",
    "    sum_val = np.dot(x_normalized, w) + b\n",
    "    yp = sigmoid(sum_val)\n",
    "\n",
    "    # Compute loss using Mean Square Error (MSE)\n",
    "    loss = np.mean((y - yp) ** 2)\n",
    "    losses.append(loss)\n",
    "\n",
    "    # Backpropagation \n",
    "    d_sum = 2 * (yp - y)\n",
    "    dw = np.dot(x_normalized.T, d_sum) / x.shape[0]\n",
    "    db = np.sum(d_sum, axis=0, keepdims=True) / x.shape[0]\n",
    "\n",
    "    # Update weights and biases using gradient descent\n",
    "    w -= learning_rate * dw\n",
    "    b -= learning_rate * db\n",
    "\n",
    "    # Print loss at every 100 epochs\n",
    "    if epoch % 100 == 0:\n",
    "        print(f'Epoch {epoch}, Loss: {loss}')\n"
   ]
  },
  {
   "cell_type": "code",
   "execution_count": 252,
   "metadata": {},
   "outputs": [
    {
     "data": {
      "image/png": "[encoded data removed]",
      "text/plain": [
       "<Figure size 640x480 with 1 Axes>"
      ]
     },
     "metadata": {},
     "output_type": "display_data"
    }
   ],
   "source": [
    "# Plot the loss over time\n",
    "plt.plot(losses)\n",
    "plt.xlabel('Epochs')\n",
    "plt.ylabel('Loss (MSE)')\n",
    "plt.title('Loss Over Time (MSE)')\n",
    "plt.show()"
   ]
  },
  {
   "cell_type": "code",
   "execution_count": 253,
   "metadata": {},
   "outputs": [
    {
     "name": "stdout",
     "output_type": "stream",
     "text": [
      "Final Weights (w): [[-2.85535029]\n",
      " [ 2.98579552]]\n",
      "Final Biases (b): [[0.1117954]]\n"
     ]
    }
   ],
   "source": [
    "# Final Weights and Biases\n",
    "print(\"Final Weights (w):\", w)\n",
    "print(\"Final Biases (b):\", b)"
   ]
  },
  {
   "cell_type": "code",
   "execution_count": 254,
   "metadata": {},
   "outputs": [
    {
     "name": "stdout",
     "output_type": "stream",
     "text": [
      "New Property 1 (Area, Bathrooms): [2500    3]\n",
      "New Property 1 Classification: Bad [[0.40869177]]\n",
      "New Property 2 (Area, Bathrooms): [2800    4]\n",
      "New Property 2 Classification: Good [[0.64445496]]\n"
     ]
    }
   ],
   "source": [
    "# Test with new data (Area, Bathrooms)\n",
    "new_data_1 = np.array([[2500, 3]])\n",
    "new_data_2 = np.array([[2800, 4]])\n",
    "\n",
    "# Normalize the new data\n",
    "test_property_1 = (new_data_1 - x_min) / (x_max - x_min)\n",
    "test_property_2 = (new_data_2 - x_min) / (x_max - x_min)\n",
    "\n",
    "# Predict the classifications\n",
    "yp_property_1 = sigmoid(np.dot(test_property_1, w) + b)\n",
    "yp_property_2 = sigmoid(np.dot(test_property_2, w) + b)\n",
    "\n",
    "# Check if the classification is good or bad\n",
    "classification_1 = \"Good\" if yp_property_1 > 0.5 else \"Bad\"\n",
    "classification_2 = \"Good\" if yp_property_2 > 0.5 else \"Bad\"\n",
    "\n",
    "# Print the classification results for new properties\n",
    "print(\"New Property 1 (Area, Bathrooms):\", new_data_1[0])\n",
    "print(\"New Property 1 Classification:\", classification_1, yp_property_1)\n",
    "\n",
    "print(\"New Property 2 (Area, Bathrooms):\", new_data_2[0])\n",
    "print(\"New Property 2 Classification:\", classification_2, yp_property_2)"
   ]
  }
 ],
 "metadata": {
  "kernelspec": {
   "display_name": "LAB-4GG9j-ik",
   "language": "python",
   "name": "python3"
  },
  "language_info": {
   "codemirror_mode": {
    "name": "ipython",
    "version": 3
   },
   "file_extension": ".py",
   "mimetype": "text/x-python",
   "name": "python",
   "nbconvert_exporter": "python",
   "pygments_lexer": "ipython3",
   "version": "3.10.6"
  }
 },
 "nbformat": 4,
 "nbformat_minor": 2
}
